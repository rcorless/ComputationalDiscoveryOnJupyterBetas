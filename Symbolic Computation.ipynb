{
 "cells": [
  {
   "cell_type": "markdown",
   "metadata": {},
   "source": [
    "<H1> Symbolic Computation: The Pitfalls </H1>\n",
    "\n",
    "This collection of notebooks is mostly numerical, with not a lot of exact or symbolic computation.  Why not?  And, for that matter, why is numerical computing (even with all the unexpected behaviour of floating-point arithmetic) so much more popular than symbolic or exact computing?\n",
    "\n",
    "This section explores symbolic computation and its pitfalls.  We do so from the point of view of experience and with some authority: we have used symbolic computation (usually in Maple, but also in other symbolic languages) for years (decades!) and know it and its benefits well. <b>Caveat: We do not know SymPy so well, and so if we say that SymPy <i>can't</i> do something, we may well be wrong.</b> \n",
    "\n",
    "One of RMC's earliest co-authors, Honglin Ye, put it well when he suggested that not everyone needs numerical methods but that <i>everyone</i> could use symbolic computation.\n",
    "\n",
    "Wait.  Isn't that contradictory?  If everyone could use it, why aren't they?\n",
    "\n",
    "There are, we think, a few main obstacles.\n",
    "\n",
    "<OL>\n",
    "    <LI> Symbolic computation systems are hard to learn how to use well, because there's a lot to learn (indeed, you kind of have to know the math first, too).  Look at the <A HREF=\"https://docs.sympy.org/latest/tutorial/index.html\">SymPy Tutorial</A> for example. It has ten sections, one labeled \"Gotchas\". The SAGEMATH system, which also works with Python, is both more powerful and more complicated: <A HREF=\"https://doc.sagemath.org/html/en/tutorial/\">See the SAGEMATH Tutorial </A> to get started there.</LI>\n",
    "    <LI> Some mathematical problems are inherently too expensive to solve in human lifetimes, even with today's computers, and people unfairly blame symbolic computation systems for this.</LI>\n",
    "    <LI> Even if you can solve a problem exactly, with extra effort, that effort might be wasted because the approximate answers are <i>also</i> the \"exact\" answers to similar problems, and those similar problems might be just as good a model of\n",
    "        whatever system you were trying to understand.  This is especially true if the data is only known approximately. </LI>\n",
    "    <LI> \"Symbolic Computation\" and \"Computer Algebra\" are related terms---about as close as \"Numerical Analysis\" and \"Computational Science\" if that comparison means anything---but the differences are remarkably important, because what gets <i>implemented</i> is usually a Computer Algebra system, whereas what people actually <i>want to use</i> is a symbolic computation system.  We'll show you what that means.</LI>\n",
    "    <LI> Symbolic computation systems are hard to implement well.  The major systems (Maple, Mathematica, and Matlab) charge money for their products, and get what they ask for; this is because their systems are better than the free ones in many respects, because they have invested significant programmer time to address the inherent difficulties.  Free systems, such as SymPy, will do the easy things for you; and we will see that they can be useful.  But in reality there's no comparison (although we admit that the SAGEMATH people may well disagree with our opinion).</LI>\n",
    "</OL>\n",
    "\n",
    "All that said, symbolic computation <i>can</i> be extremely useful (and interesting), and is sometimes worth all the bother. Let's look first at what Python and SymPy can do.  Later we'll look at what the difficulties are."
   ]
  },
  {
   "cell_type": "code",
   "execution_count": 1,
   "metadata": {},
   "outputs": [
    {
     "name": "stdout",
     "output_type": "stream",
     "text": [
      "100  factorial is  93326215443944152681699238856266700490715968264381621468592963895217599993229915608941463976156518286253697920827223758251185210916864000000000000000000000000\n",
      "The floating point value of p is  9.332621544394415e+157\n"
     ]
    }
   ],
   "source": [
    "\n",
    "n = 100\n",
    "p = 1\n",
    "for i in range(n): \n",
    "    p = p*(i+1)\n",
    "print( n, ' factorial is ', p)\n",
    "print( 'The floating point value of p is ', 1.0*p )"
   ]
  },
  {
   "cell_type": "markdown",
   "metadata": {},
   "source": [
    "The first thing we see is that Python has, built-in, arbitrary precision integer arithmetic.  Yay?"
   ]
  },
  {
   "cell_type": "code",
   "execution_count": 2,
   "metadata": {},
   "outputs": [
    {
     "name": "stdout",
     "output_type": "stream",
     "text": [
      "720  factorial is  2601218943565795100204903227081043611191521875016945785727541837850835631156947382240678577958130457082619920575892247259536641565162052015873791984587740832529105244690388811884123764341191951045505346658616243271940197113909845536727278537099345629855586719369774070003700430783758997420676784016967207846280629229032107161669867260548988445514257193985499448939594496064045132362140265986193073249369770477606067680670176491669403034819961881455625195592566918830825514942947596537274845624628824234526597789737740896466553992435928786212515967483220976029505696699927284670563747137533019248313587076125412683415860129447566011455420749589952563543068288634631084965650682771552996256790845235702552186222358130016700834523443236821935793184701956510729781804354173890560727428048583995919729021726612291298420516067579036232337699453964191475175567557695392233803056825308599977441675784352815913461340394604901269542028838347101363733824484506660093348484440711931292537694657354337375724772230181534032647177531984537341478674327048457983786618703257405938924215709695994630557521063203263493209220738320923356309923267504401701760572026010829288042335606643089888710297380797578013056049576342838683057190662205291174822510536697756603029574043387983471518552602805333866357139101046336419769097397432285994219837046979109956303389604675889865795711176566670039156748153115943980043625399399731203066490601325311304719028898491856203766669164468791125249193754425845895000311561682974304641142538074897281723375955380661719801404677935614793635266265683339509760000000000000000000000000000000000000000000000000000000000000000000000000000000000000000000000000000000000000000000000000000000000000000000000000000000000000000000000000000000000\n"
     ]
    }
   ],
   "source": [
    "n = 720\n",
    "p = 1\n",
    "for i in range(n): \n",
    "    p = p*(i+1)\n",
    "print( n, ' factorial is ', p)\n",
    "# print( 'The floating point value of p is ', 1.0*p )  # Causes OverflowError"
   ]
  },
  {
   "cell_type": "markdown",
   "metadata": {},
   "source": [
    "Large integers cost more to manipulate---the above number is pretty long.  But SymPy will do it if you ask.  One thing you might want to do is <i>factor</i> those numbers.  Or one might just want to know the prime factors."
   ]
  },
  {
   "cell_type": "code",
   "execution_count": 3,
   "metadata": {
    "scrolled": false
   },
   "outputs": [
    {
     "name": "stdout",
     "output_type": "stream",
     "text": [
      "The prime factors of 720 : [2, 3, 5]\n",
      "The prime factors of 2601218943565795100204903227081043611191521875016945785727541837850835631156947382240678577958130457082619920575892247259536641565162052015873791984587740832529105244690388811884123764341191951045505346658616243271940197113909845536727278537099345629855586719369774070003700430783758997420676784016967207846280629229032107161669867260548988445514257193985499448939594496064045132362140265986193073249369770477606067680670176491669403034819961881455625195592566918830825514942947596537274845624628824234526597789737740896466553992435928786212515967483220976029505696699927284670563747137533019248313587076125412683415860129447566011455420749589952563543068288634631084965650682771552996256790845235702552186222358130016700834523443236821935793184701956510729781804354173890560727428048583995919729021726612291298420516067579036232337699453964191475175567557695392233803056825308599977441675784352815913461340394604901269542028838347101363733824484506660093348484440711931292537694657354337375724772230181534032647177531984537341478674327048457983786618703257405938924215709695994630557521063203263493209220738320923356309923267504401701760572026010829288042335606643089888710297380797578013056049576342838683057190662205291174822510536697756603029574043387983471518552602805333866357139101046336419769097397432285994219837046979109956303389604675889865795711176566670039156748153115943980043625399399731203066490601325311304719028898491856203766669164468791125249193754425845895000311561682974304641142538074897281723375955380661719801404677935614793635266265683339509760000000000000000000000000000000000000000000000000000000000000000000000000000000000000000000000000000000000000000000000000000000000000000000000000000000000000000000000000000000000 : [2, 3, 5, 7, 11, 13, 17, 19, 23, 29, 31, 37, 41, 43, 47, 53, 59, 61, 67, 71, 73, 79, 83, 89, 97, 101, 103, 107, 109, 113, 127, 131, 137, 139, 149, 151, 157, 163, 167, 173, 179, 181, 191, 193, 197, 199, 211, 223, 227, 229, 233, 239, 241, 251, 257, 263, 269, 271, 277, 281, 283, 293, 307, 311, 313, 317, 331, 337, 347, 349, 353, 359, 367, 373, 379, 383, 389, 397, 401, 409, 419, 421, 431, 433, 439, 443, 449, 457, 461, 463, 467, 479, 487, 491, 499, 503, 509, 521, 523, 541, 547, 557, 563, 569, 571, 577, 587, 593, 599, 601, 607, 613, 617, 619, 631, 641, 643, 647, 653, 659, 661, 673, 677, 683, 691, 701, 709, 719]\n"
     ]
    }
   ],
   "source": [
    "from sympy import primefactors \n",
    "\n",
    "primefactors_n = primefactors(n)  \n",
    "print(\"The prime factors of {} : {}\".format(n, primefactors_n)) \n",
    "\n",
    "primefactors_p = primefactors(p)  \n",
    "print(\"The prime factors of {} : {}\".format(p, primefactors_p)) \n"
   ]
  },
  {
   "cell_type": "markdown",
   "metadata": {},
   "source": [
    "Factoring seems like such a simple problem, and it's so natural to have it implemented in a symbolic computation system.  The number 720! is 1747 digits long.  Maybe all 1700--odd digits long integers are so easy to factor?\n",
    "\n",
    "Um, no.  See the discussion at https://en.wikipedia.org/wiki/Integer_factorization to get started.  Let's take a modest problem and time it here."
   ]
  },
  {
   "cell_type": "code",
   "execution_count": 4,
   "metadata": {},
   "outputs": [
    {
     "name": "stdout",
     "output_type": "stream",
     "text": [
      "The prime factors of 3000000000238000000004719 : {3000000000121: 1, 1000000000039: 1}\n",
      "--- 11.154199123382568 seconds ---\n"
     ]
    }
   ],
   "source": [
    "funny = 3000000000238000000004719\n",
    "#notfunny = 45000000000000000057990000000000000024761900000000000003506217\n",
    "from sympy import factorint\n",
    "import time\n",
    "start_time = time.time()\n",
    "factordict = factorint(funny)  \n",
    "print(\"The prime factors of {} : {}\".format(funny, factordict)) \n",
    "print(\"--- %s seconds ---\" % (time.time() - start_time))\n"
   ]
  },
  {
   "cell_type": "markdown",
   "metadata": {},
   "source": [
    "That factoring of $3000000000238000000004719$ took between 8 and 11 seconds on this machine (different times if executed more than once); on this very same machine, Maple's \"ifactor\" command succeeded so quickly that it registered no time taken at all, possibly because it was using a very specialized method; factoring integers is an important feature of symbolic computation and Maple's procedures for it have been a subject of serious research for a long time.  Maple's help pages cite three important papers, and tell you that it uses an algorithm called the quadratic sieve.  Maple can factor $45000000000000000057990000000000000024761900000000000003506217$ into its three prime factors in about 7.5 seconds on this machine; in contrast, after fifty minutes running trying to factor that with factorint as above, RMC had to hard-restart to get Python's attention. \n",
    "\n",
    "That SymPy takes so long to factor integers, in comparsion, suggests that it isn't using the best methods (the documentation says that it switches between three methods, trial division, Pollard rho, and Pollard p-1) ; and because factoring is such a basic algorithm (an even more basic one is GCD or Greatest Common Divisor) this will have important knock-on effects.\n",
    "\n",
    "But factoring, as old an idea as it is, is complicated enough to be used as a basic idea in modern cryptography.  The slowness of SymPy is not completely its fault: the problem is hard.\n",
    "\n",
    "Let's move on to computing with functions.  As previously stated, most supposedly \"symbolic\" systems are really \"algebra\" systems: this means that they work well with polynomials (even multivariate polynomials).  A polynomial considered as an algebraic object is isomorphic to a polynomial considered as a function---but the difference in viewpoint can alter the affordances.  An \"affordance\" is a word meaning \"something can happen with it\": for instance, you can pick out a lowest-degree term; or you can add it to another polynomial; or you can square it; and so on.  As a function, you can evaluate it at a particular value for the symbols (variables)."
   ]
  },
  {
   "cell_type": "code",
   "execution_count": 5,
   "metadata": {},
   "outputs": [
    {
     "data": {
      "text/plain": [
       "{-sqrt(3), sqrt(3)}"
      ]
     },
     "execution_count": 5,
     "metadata": {},
     "output_type": "execute_result"
    }
   ],
   "source": [
    "from sympy import *\n",
    "x = symbols('x')\n",
    "\n",
    "solveset(Eq(x**2, 3), x)\n"
   ]
  },
  {
   "cell_type": "code",
   "execution_count": 6,
   "metadata": {},
   "outputs": [
    {
     "data": {
      "text/plain": [
       "{-1/(3*(1/2 + sqrt(93)/18)**(1/3)) + (1/2 + sqrt(93)/18)**(1/3), -(1/2 + sqrt(93)/18)**(1/3)/2 + 1/(6*(1/2 + sqrt(93)/18)**(1/3)) + I*(sqrt(3)/(6*(1/2 + sqrt(93)/18)**(1/3)) + sqrt(3)*(1/2 + sqrt(93)/18)**(1/3)/2), -(1/2 + sqrt(93)/18)**(1/3)/2 + 1/(6*(1/2 + sqrt(93)/18)**(1/3)) + I*(-sqrt(3)*(1/2 + sqrt(93)/18)**(1/3)/2 - sqrt(3)/(6*(1/2 + sqrt(93)/18)**(1/3)))}"
      ]
     },
     "execution_count": 6,
     "metadata": {},
     "output_type": "execute_result"
    }
   ],
   "source": [
    "solveset(Eq(x**3+x-1, 0), x)"
   ]
  },
  {
   "cell_type": "code",
   "execution_count": 7,
   "metadata": {},
   "outputs": [
    {
     "name": "stdout",
     "output_type": "stream",
     "text": [
      "--- 0.0 seconds ---\n"
     ]
    }
   ],
   "source": [
    "start_time = time.time()\n",
    "#solveset(Eq(x**4+x-1, 0), x) # Interrupted after about two hours: the code did not succeed\n",
    "print(\"--- %s seconds ---\" % (time.time() - start_time))"
   ]
  },
  {
   "cell_type": "markdown",
   "metadata": {},
   "source": [
    "In those two hours, RMC went and had his dinner; then downloaded <A HREF=\"https://www.tandfonline.com/doi/pdf/10.1080/00029890.2007.11920389\">a paper by Dave Auckly from the American Mathematical Monthly 2007 </A> which talks about solving the quartic with a pencil (an algebraic geometer's pencil!), read it, and solved the problem by hand, including solving the resolvent cubic by hand, which he already knew how to do.  And got it right, too. So there.\n",
    "\n",
    "In contrast, Maple (nearly instantaneously) returns---if you force it to by saying you want the explicit solution---the answer\n",
    "$$\n",
    "\\frac{\\sqrt{6}\\, \\sqrt{\\frac{\\left(108+12 \\sqrt{849}\\right)^{\\frac{2}{3}}-48}{\\left(108+12 \\sqrt{849}\\right)^{\\frac{1}{3}}}}}{12}+\\frac{\\mathrm{I} \\sqrt{6}\\, \\sqrt{\\frac{\\left(108+12 \\sqrt{849}\\right)^{\\frac{2}{3}} \\sqrt{\\frac{\\left(108+12 \\sqrt{849}\\right)^{\\frac{2}{3}}-48}{\\left(108+12 \\sqrt{849}\\right)^{\\frac{1}{3}}}}+12 \\sqrt{6}\\, \\left(108+12 \\sqrt{849}\\right)^{\\frac{1}{3}}-48 \\sqrt{\\frac{\\left(108+12 \\sqrt{849}\\right)^{\\frac{2}{3}}-48}{\\left(108+12 \\sqrt{849}\\right)^{\\frac{1}{3}}}}}{\\left(108+12 \\sqrt{849}\\right)^{\\frac{1}{3}} \\sqrt{\\frac{\\left(108+12 \\sqrt{849}\\right)^{\\frac{2}{3}}-48}{\\left(108+12 \\sqrt{849}\\right)^{\\frac{1}{3}}}}}}}{12}\n",
    ", \n",
    "\\frac{\\sqrt{6}\\, \\sqrt{\\frac{\\left(108+12 \\sqrt{849}\\right)^{\\frac{2}{3}}-48}{\\left(108+12 \\sqrt{849}\\right)^{\\frac{1}{3}}}}}{12}-\\frac{\\mathrm{I} \\sqrt{6}\\, \\sqrt{\\frac{\\left(108+12 \\sqrt{849}\\right)^{\\frac{2}{3}} \\sqrt{\\frac{\\left(108+12 \\sqrt{849}\\right)^{\\frac{2}{3}}-48}{\\left(108+12 \\sqrt{849}\\right)^{\\frac{1}{3}}}}+12 \\sqrt{6}\\, \\left(108+12 \\sqrt{849}\\right)^{\\frac{1}{3}}-48 \\sqrt{\\frac{\\left(108+12 \\sqrt{849}\\right)^{\\frac{2}{3}}-48}{\\left(108+12 \\sqrt{849}\\right)^{\\frac{1}{3}}}}}{\\left(108+12 \\sqrt{849}\\right)^{\\frac{1}{3}} \\sqrt{\\frac{\\left(108+12 \\sqrt{849}\\right)^{\\frac{2}{3}}-48}{\\left(108+12 \\sqrt{849}\\right)^{\\frac{1}{3}}}}}}}{12}\n",
    ", \n",
    "-\\frac{\\sqrt{6}\\, \\sqrt{\\frac{\\left(108+12 \\sqrt{849}\\right)^{\\frac{2}{3}}-48}{\\left(108+12 \\sqrt{849}\\right)^{\\frac{1}{3}}}}}{12}+\\frac{\\sqrt{6}\\, \\sqrt{\\frac{-\\left(108+12 \\sqrt{849}\\right)^{\\frac{2}{3}} \\sqrt{\\frac{\\left(108+12 \\sqrt{849}\\right)^{\\frac{2}{3}}-48}{\\left(108+12 \\sqrt{849}\\right)^{\\frac{1}{3}}}}+12 \\sqrt{6}\\, \\left(108+12 \\sqrt{849}\\right)^{\\frac{1}{3}}+48 \\sqrt{\\frac{\\left(108+12 \\sqrt{849}\\right)^{\\frac{2}{3}}-48}{\\left(108+12 \\sqrt{849}\\right)^{\\frac{1}{3}}}}}{\\left(108+12 \\sqrt{849}\\right)^{\\frac{1}{3}} \\sqrt{\\frac{\\left(108+12 \\sqrt{849}\\right)^{\\frac{2}{3}}-48}{\\left(108+12 \\sqrt{849}\\right)^{\\frac{1}{3}}}}}}}{12}\n",
    ", \n",
    "-\\frac{\\sqrt{6}\\, \\sqrt{\\frac{\\left(108+12 \\sqrt{849}\\right)^{\\frac{2}{3}}-48}{\\left(108+12 \\sqrt{849}\\right)^{\\frac{1}{3}}}}}{12}-\\frac{\\sqrt{6}\\, \\sqrt{\\frac{-\\left(108+12 \\sqrt{849}\\right)^{\\frac{2}{3}} \\sqrt{\\frac{\\left(108+12 \\sqrt{849}\\right)^{\\frac{2}{3}}-48}{\\left(108+12 \\sqrt{849}\\right)^{\\frac{1}{3}}}}+12 \\sqrt{6}\\, \\left(108+12 \\sqrt{849}\\right)^{\\frac{1}{3}}+48 \\sqrt{\\frac{\\left(108+12 \\sqrt{849}\\right)^{\\frac{2}{3}}-48}{\\left(108+12 \\sqrt{849}\\right)^{\\frac{1}{3}}}}}{\\left(108+12 \\sqrt{849}\\right)^{\\frac{1}{3}} \\sqrt{\\frac{\\left(108+12 \\sqrt{849}\\right)^{\\frac{2}{3}}-48}{\\left(108+12 \\sqrt{849}\\right)^{\\frac{1}{3}}}}}}}{12}\n",
    "$$"
   ]
  },
  {
   "cell_type": "markdown",
   "metadata": {},
   "source": [
    "This is an example of what Velvel Kahan calls a \"wallpaper expression.\"  He also famously said, \"Have you ever asked a computer algebra system a question, and then, as the screensful of answer whizzed past your eyes, said \"I wish I hadn't asked?\"\"\n",
    "\n",
    "The use of that exact answer (quickly obtained or not) is questionable.  Then, of course, the Abel-Ruffini theorem says that there is <i>no</i> general formula for solving polynomials of degree $5$ or higher <i>in terms of radicals</i>.  For degree $5$ polynomials, there <i>is</i> a solution in terms of elliptic functions; again, it's complicated enough that it's of questionable use.  Then there is Galois theory which describes the algebraic structures of polynomials.  See the interesting historical essay by Nick Trefethen on <A HREF=\"https://people.maths.ox.ac.uk/trefethen/galois.pdf\"> What we learned from Galois </A>.\n",
    "\n",
    "The lesson here is that even when you <i>can</i> solve something exactly, maybe you shouldn't.  \n",
    "\n",
    "There are some interesting things you can do with univariate polynomials of high degree, including with the algebraic numbers that are their roots.  But computation with them isn't so easy.  SymPy actually has some quite advanced features for polynomials, including multivariate polynomials."
   ]
  },
  {
   "cell_type": "markdown",
   "metadata": {},
   "source": [
    "<H3> Symbolic computation with functions </H3>\n",
    "\n",
    "Let's try some calculus-like things."
   ]
  },
  {
   "cell_type": "code",
   "execution_count": 8,
   "metadata": {},
   "outputs": [
    {
     "data": {
      "text/plain": [
       "ImageSet(Lambda(_n, I*(2*_n*pi + arg(x)) + log(Abs(x))), S.Integers)"
      ]
     },
     "execution_count": 8,
     "metadata": {},
     "output_type": "execute_result"
    }
   ],
   "source": [
    "y = symbols('y')\n",
    "\n",
    "solveset(Eq(exp(y), x), y)"
   ]
  },
  {
   "cell_type": "markdown",
   "metadata": {},
   "source": [
    "RMC <b>really</b> doesn't like that \"solution\"!  It has separated the real and imaginary parts without needing to.  A perfectly good answer would be $\\ln_n(x)$, which looks a lot simpler.\n",
    "\n",
    "$\\ln_k(z)$, which might not look familiar to you, means $\\ln(z) + 2\\pi i k$.  Also, SymPy has chosen to emulate Maple and use I for the square root of $-1$, which made a kind of sense in the 1980's when Maple chose to do it that way, but given all the fonts we have nowadays that doesn't seem sensible at all.\n",
    "\n",
    "Fine.  We will live with it.  The solution is not actually <i>wrong</i>.\n",
    "\n"
   ]
  },
  {
   "cell_type": "code",
   "execution_count": 9,
   "metadata": {},
   "outputs": [
    {
     "data": {
      "text/plain": [
       "ConditionSet(y, Eq(-x + y*exp(y), 0), Complexes(S.Reals x S.Reals, False))"
      ]
     },
     "execution_count": 9,
     "metadata": {},
     "output_type": "execute_result"
    }
   ],
   "source": [
    "solveset(Eq( y*exp(y), x), y)"
   ]
  },
  {
   "cell_type": "markdown",
   "metadata": {},
   "source": [
    "Oh, that's disappointing.  See <A HREF=\"https://en.wikipedia.org/wiki/Lambert_W_function\"> the Wikipedia article on Lambert W</A> to see what that should have been."
   ]
  },
  {
   "cell_type": "code",
   "execution_count": 10,
   "metadata": {},
   "outputs": [
    {
     "data": {
      "text/plain": [
       "[LambertW(x)]"
      ]
     },
     "execution_count": 10,
     "metadata": {},
     "output_type": "execute_result"
    }
   ],
   "source": [
    "solve( Eq( y*exp(y), x ), y )"
   ]
  },
  {
   "cell_type": "markdown",
   "metadata": {},
   "source": [
    "That's better, but---like the logarithm above---there should be multiple branches."
   ]
  },
  {
   "cell_type": "markdown",
   "metadata": {},
   "source": [
    "<H4> Integrals, and the difference between Computer Algebra and Symbolic Computation</H4>\n",
    "\n",
    "We'll start with a nasty example.  You can find nice examples of SymPy and integration in many places, so we will assume that you have seen instances of computer implementations of the fundamental theorem of calculus: to find areas under curves by using antiderivatives.  The nasty integral that we will use is\n",
    "\n",
    "$$\n",
    "f(x) = \\frac{3}{5+4\\cos x}\n",
    "$$\n",
    "\n",
    "and we will try to integrate this (infinitely smooth) function on various intervals in the real axis.  Since $\\cos x$ is never larger than $1$ for real $x$, the denominator of that function is always positive, so the function is always positive.  Therefore the integral of $f(x)$ from any $a$ to any $b > a$ will also be positive.  Positive functions have positive area underneath them, end of story."
   ]
  },
  {
   "cell_type": "code",
   "execution_count": 11,
   "metadata": {},
   "outputs": [],
   "source": [
    "from matplotlib import pyplot as plt"
   ]
  },
  {
   "cell_type": "code",
   "execution_count": 12,
   "metadata": {},
   "outputs": [
    {
     "name": "stdout",
     "output_type": "stream",
     "text": [
      "Area under the curve from 0 to 2pi is approximately  2.0  times pi \n"
     ]
    },
    {
     "data": {
      "image/png": "[encoded data removed]",
      "text/plain": [
       "<matplotlib.figure.Figure at 0x269b8891668>"
      ]
     },
     "metadata": {
      "needs_background": "light"
     },
     "output_type": "display_data"
    }
   ],
   "source": [
    "# plt imported in a previous cell.\n",
    "import numpy as np\n",
    "n = 2021\n",
    "xi = np.linspace(-2*np.pi, 2*np.pi, n)\n",
    "yi = np.zeros(n)\n",
    "for i in range(n):\n",
    "    yi[i] = 3.0/(5.0+4.0*np.cos(xi[i]))\n",
    "# Trapezoidal rule is spectrally accurate for periodic integrands\n",
    "area = np.trapz(yi, x=xi)\n",
    "print( 'Area under the curve from 0 to 2pi is approximately ', area/2/np.pi, ' times pi ')\n",
    "plt.plot(xi,yi,'k,')\n",
    "plt.axis([-2*np.pi, 2*np.pi, 0, 4])\n",
    "plt.show()"
   ]
  },
  {
   "cell_type": "code",
   "execution_count": 13,
   "metadata": {},
   "outputs": [
    {
     "name": "stdout",
     "output_type": "stream",
     "text": [
      "The integral from SymPy is  -I*log(tan(x/2) - 3*I) + I*log(tan(x/2) + 3*I)\n",
      "The area under the curve from 0 to 2pi is positive, not  0\n",
      "No, the area is positive, not  0\n"
     ]
    }
   ],
   "source": [
    "f = 3/(5+4*cos(x))\n",
    "F = integrate(f, x )\n",
    "print( 'The integral from SymPy is ', F )\n",
    "FTOC = F.subs(x,2*pi) - F.subs(x,0)\n",
    "print( 'The area under the curve from 0 to 2pi is positive, not ', FTOC )\n",
    "defint = integrate( f, (x,0,2*pi))\n",
    "print( 'No, the area is positive, not ', defint )"
   ]
  },
  {
   "cell_type": "markdown",
   "metadata": {},
   "source": [
    "As of this writing, many computer algebra systems (not just SymPy) are broken by this example.  Maple's indefinite integral returns something that looks a little nicer, namely\n",
    "$$\n",
    "\\int f(x)\\,dx = 2 \\arctan \\! \\left(\\frac{\\tan \\! \\left(\\frac{x}{2}\\right)}{3}\\right)\n",
    "$$\n",
    "but when you evaluate that at $x=2\\pi$ you get the same value that you do at $x=0$, because the function is <i>periodic</i>.  So the difference is, as with SymPy's answer, wrongly zero.\n",
    "\n",
    "There is something very important happening in that expression, though, which also happens in that more complex expression returned by SymPy: there is a jump discontinuity at $x=\\pi$.  The computer algebra system has returned a <i>discontinuous</i> function as an antiderivative of a <i>continuous</i> function.\n",
    "\n",
    "Anyone remember the tl;dr of the Fundamental Theorem of Calculus?  Likely not.  Even we have to look it up before we teach it, to be sure we have the fine details right.  The basic idea is, though, that integration <i>smooths</i> things out: integrate a continuous function, you get a <i>continuously differentiable</i> function, which is smoother.  Jump discontinuities spuriously introduced are <i>right out</i>.\n",
    "\n",
    "So, what the computer algebra system is doing there <i>is not integration</i>.  Anyone get their knuckles rapped for not adding the \"constant of integration\" when you integrated on a test?  Lost a mark or two, maybe?\n",
    "\n",
    "Turns out that's what's going on here.  By adding <i>different constants</i> in <i>different intervals</i> to this purported antiderivative, we can find a smooth antiderivative of $f(x)$.  The answer returned by SymPy (and Maple) is \"correct\" from the point of view of differential algebra, where constants are things that differentiate to zero and don't have \"values\" as such.\n",
    "\n",
    "Many people who implement computer algebra systems (even some of our friends at Maple) argue that they are right and we are wrong, and don't see the point.  But they are wrong, and one day they'll get it.  Now, they do have a fix-up in their <i>definite</i> integration code: if you ask Maple int( f, x=0..2\\*Pi) you will get the correct answer $2\\pi$.  But you have to ask the right way, by using the syntax for definite integrals (as you see above, SymPy does not give the right answer that way). \n",
    "\n",
    "Matlab gets it.  Matlab's Symbolic Toolbox works quite hard to get continuous antiderivatives.  So we have confidence that Maple will one day get it. But Wolfram Alpha gets a discontinuous antiderivative, too, at this time of writing, so there's only a <i>little</i> pressure from the competition.\n",
    "\n",
    "These facts have been known for quite a while now.  See <A HREF=\"https://www.jstor.org/stable/pdf/2690852.pdf\">The Importance of Being Continuous</A> by David Jeffrey, a paper that was written in 1994 (long predating Python or SymPy).\n",
    "\n",
    "The disagreement amongst mathematicians---algebra versus analysis---has been going on for much longer, and goes at least back to Cauchy.  We are on Cauchy's side, here.  But there are lots of people who just want formulas, and don't care if they are discontinuous.\n",
    "\n",
    "RMC retweeted something apropos this morning: Prof Michael Kinyon said \"I used to think it was weird when people disagreed with me, but now I understand that some people just enjoy the feeling of being wrong.\"\n",
    "\n"
   ]
  }
 ],
 "metadata": {
  "kernelspec": {
   "display_name": "Python 3",
   "language": "python",
   "name": "python3"
  },
  "language_info": {
   "codemirror_mode": {
    "name": "ipython",
    "version": 3
   },
   "file_extension": ".py",
   "mimetype": "text/x-python",
   "name": "python",
   "nbconvert_exporter": "python",
   "pygments_lexer": "ipython3",
   "version": "3.6.4"
  }
 },
 "nbformat": 4,
 "nbformat_minor": 2
}
